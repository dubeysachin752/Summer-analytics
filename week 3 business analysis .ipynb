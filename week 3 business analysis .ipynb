{
 "cells": [
  {
   "cell_type": "markdown",
   "metadata": {
    "colab_type": "text",
    "id": "M0YYLw6N_KCE"
   },
   "source": [
    "# Programming Exercise 1: Linear Regression\n",
    "\n",
    "## Introduction\n",
    "\n",
    "In this exercise, you will implement linear regression and get to see it work on data. Before starting on this programming exercise, we strongly recommend watching the video lectures and completing the review questions for the associated topics.\n",
    "\n",
    "All the information you need for solving this assignment is in this notebook, and all the code you will be implementing will take place within this notebook..\n",
    "\n",
    "Before we begin with the exercises, we need to import all libraries required for this programming exercise. Throughout the course, we will be using [`numpy`](http://www.numpy.org/) for all arrays and matrix operations, and [`matplotlib`](https://matplotlib.org/) for plotting.\n"
   ]
  },
  {
   "cell_type": "code",
   "execution_count": 1,
   "metadata": {
    "colab": {},
    "colab_type": "code",
    "id": "Rqms0xsm_KCF"
   },
   "outputs": [],
   "source": [
    "# used for manipulating directory paths\n",
    "import os\n",
    "\n",
    "# Scientific and vector computation for python\n",
    "import numpy as np\n",
    "\n",
    "# Plotting library\n",
    "from matplotlib import pyplot\n",
    "\n",
    "# needed to plot 3-D surfaces\n",
    "from mpl_toolkits.mplot3d import Axes3D  \n",
    "\n",
    "# tells matplotlib to embed plots within the notebook\n",
    "%matplotlib inline"
   ]
  },
  {
   "cell_type": "markdown",
   "metadata": {
    "colab_type": "text",
    "id": "rbzq6tZr_KCJ"
   },
   "source": [
    "Complete the function to return an identity matrix of size 5."
   ]
  },
  {
   "cell_type": "code",
   "execution_count": 2,
   "metadata": {
    "colab": {},
    "colab_type": "code",
    "id": "8EfxnhE2_KCJ"
   },
   "outputs": [],
   "source": [
    "def warmUpExercise():\n",
    "    \"\"\"\n",
    "    Example function in Python which computes the identity matrix.\n",
    "    Do not hard code kindly use numpy\n",
    "    Returns\n",
    "    -------\n",
    "    A : array_like\n",
    "        The 5x5 identity matrix.\n",
    "    \n",
    "    Instructions\n",
    "    ------------\n",
    "    Return the 5x5 identity matrix.\n",
    "    \"\"\"    \n",
    "    # ======== YOUR CODE HERE ======\n",
    "    A = [np.eye(5)]   # modify this line\n",
    "    \n",
    "    # ==============================\n",
    "    return A"
   ]
  },
  {
   "cell_type": "markdown",
   "metadata": {
    "colab_type": "text",
    "id": "jDl4Msj9_KCM"
   },
   "source": [
    "Your output should match this\n",
    "\n",
    "[array([[ 1.,  0.,  0.,  0.,  0.],<br>\n",
    "       [ 0.,  1.,  0.,  0.,  0.],<br>\n",
    "       [ 0.,  0.,  1.,  0.,  0.],<br>\n",
    "       [ 0.,  0.,  0.,  1.,  0.],<br>\n",
    "       [ 0.,  0.,  0.,  0.,  1.]]))]"
   ]
  },
  {
   "cell_type": "code",
   "execution_count": 3,
   "metadata": {
    "colab": {},
    "colab_type": "code",
    "id": "gkqOdcLn_KCM"
   },
   "outputs": [
    {
     "data": {
      "text/plain": [
       "[array([[1., 0., 0., 0., 0.],\n",
       "        [0., 1., 0., 0., 0.],\n",
       "        [0., 0., 1., 0., 0.],\n",
       "        [0., 0., 0., 1., 0.],\n",
       "        [0., 0., 0., 0., 1.]])]"
      ]
     },
     "execution_count": 3,
     "metadata": {},
     "output_type": "execute_result"
    }
   ],
   "source": [
    "warmUpExercise()"
   ]
  },
  {
   "cell_type": "markdown",
   "metadata": {
    "colab_type": "text",
    "id": "cidgOF0__KCP"
   },
   "source": [
    "## 2 Linear regression with one variable\n",
    "\n",
    "Now you will implement linear regression with one variable to predict profits for a food truck. Suppose you are the CEO of a restaurant franchise and are considering different cities for opening a new outlet. The chain already has trucks in various cities and you have data for profits and populations from the cities. You would like to use this data to help you select which city to expand to next. \n",
    "\n",
    "The file `ex1data1.txt` contains the dataset for our linear regression problem. The first column is the population of a city (in 10,000s) and the second column is the profit of a food truck in that city (in $10,000s). A negative value for profit indicates a loss. \n",
    "\n",
    "We provide you with the code needed to load this data. The dataset is loaded from the data file into the variables `x` and `y`:"
   ]
  },
  {
   "cell_type": "code",
   "execution_count": 5,
   "metadata": {
    "colab": {},
    "colab_type": "code",
    "id": "lLkbuDrM_KCP"
   },
   "outputs": [],
   "source": [
    "# Read comma separated data\n",
    "data = np.loadtxt(os.path.join(\"C:\\Sachin\\INDUSTRIAL AUTOMATION\\Data science\\ML\\ex1data1.txt\"), delimiter=',')\n",
    "\n",
    "\n"
   ]
  },
  {
   "cell_type": "code",
   "execution_count": 6,
   "metadata": {},
   "outputs": [],
   "source": [
    "X, y = data[:, 0], data[:, 1]"
   ]
  },
  {
   "cell_type": "code",
   "execution_count": 7,
   "metadata": {},
   "outputs": [
    {
     "data": {
      "text/plain": [
       "array([ 6.1101,  5.5277,  8.5186,  7.0032,  5.8598,  8.3829,  7.4764,\n",
       "        8.5781,  6.4862,  5.0546,  5.7107, 14.164 ,  5.734 ,  8.4084,\n",
       "        5.6407,  5.3794,  6.3654,  5.1301,  6.4296,  7.0708,  6.1891,\n",
       "       20.27  ,  5.4901,  6.3261,  5.5649, 18.945 , 12.828 , 10.957 ,\n",
       "       13.176 , 22.203 ,  5.2524,  6.5894,  9.2482,  5.8918,  8.2111,\n",
       "        7.9334,  8.0959,  5.6063, 12.836 ,  6.3534,  5.4069,  6.8825,\n",
       "       11.708 ,  5.7737,  7.8247,  7.0931,  5.0702,  5.8014, 11.7   ,\n",
       "        5.5416,  7.5402,  5.3077,  7.4239,  7.6031,  6.3328,  6.3589,\n",
       "        6.2742,  5.6397,  9.3102,  9.4536,  8.8254,  5.1793, 21.279 ,\n",
       "       14.908 , 18.959 ,  7.2182,  8.2951, 10.236 ,  5.4994, 20.341 ,\n",
       "       10.136 ,  7.3345,  6.0062,  7.2259,  5.0269,  6.5479,  7.5386,\n",
       "        5.0365, 10.274 ,  5.1077,  5.7292,  5.1884,  6.3557,  9.7687,\n",
       "        6.5159,  8.5172,  9.1802,  6.002 ,  5.5204,  5.0594,  5.7077,\n",
       "        7.6366,  5.8707,  5.3054,  8.2934, 13.394 ,  5.4369])"
      ]
     },
     "execution_count": 7,
     "metadata": {},
     "output_type": "execute_result"
    }
   ],
   "source": [
    "#first column of data\n",
    "X"
   ]
  },
  {
   "cell_type": "code",
   "execution_count": 8,
   "metadata": {},
   "outputs": [
    {
     "data": {
      "text/plain": [
       "array([17.592  ,  9.1302 , 13.662  , 11.854  ,  6.8233 , 11.886  ,\n",
       "        4.3483 , 12.     ,  6.5987 ,  3.8166 ,  3.2522 , 15.505  ,\n",
       "        3.1551 ,  7.2258 ,  0.71618,  3.5129 ,  5.3048 ,  0.56077,\n",
       "        3.6518 ,  5.3893 ,  3.1386 , 21.767  ,  4.263  ,  5.1875 ,\n",
       "        3.0825 , 22.638  , 13.501  ,  7.0467 , 14.692  , 24.147  ,\n",
       "       -1.22   ,  5.9966 , 12.134  ,  1.8495 ,  6.5426 ,  4.5623 ,\n",
       "        4.1164 ,  3.3928 , 10.117  ,  5.4974 ,  0.55657,  3.9115 ,\n",
       "        5.3854 ,  2.4406 ,  6.7318 ,  1.0463 ,  5.1337 ,  1.844  ,\n",
       "        8.0043 ,  1.0179 ,  6.7504 ,  1.8396 ,  4.2885 ,  4.9981 ,\n",
       "        1.4233 , -1.4211 ,  2.4756 ,  4.6042 ,  3.9624 ,  5.4141 ,\n",
       "        5.1694 , -0.74279, 17.929  , 12.054  , 17.054  ,  4.8852 ,\n",
       "        5.7442 ,  7.7754 ,  1.0173 , 20.992  ,  6.6799 ,  4.0259 ,\n",
       "        1.2784 ,  3.3411 , -2.6807 ,  0.29678,  3.8845 ,  5.7014 ,\n",
       "        6.7526 ,  2.0576 ,  0.47953,  0.20421,  0.67861,  7.5435 ,\n",
       "        5.3436 ,  4.2415 ,  6.7981 ,  0.92695,  0.152  ,  2.8214 ,\n",
       "        1.8451 ,  4.2959 ,  7.2029 ,  1.9869 ,  0.14454,  9.0551 ,\n",
       "        0.61705])"
      ]
     },
     "execution_count": 8,
     "metadata": {},
     "output_type": "execute_result"
    }
   ],
   "source": [
    "#second row of data\n",
    "y"
   ]
  },
  {
   "cell_type": "code",
   "execution_count": 9,
   "metadata": {},
   "outputs": [
    {
     "name": "stdout",
     "output_type": "stream",
     "text": [
      "97\n"
     ]
    }
   ],
   "source": [
    "# number of training examples\n",
    "m = y.size  \n",
    "print(m)"
   ]
  },
  {
   "cell_type": "code",
   "execution_count": 10,
   "metadata": {},
   "outputs": [
    {
     "name": "stdout",
     "output_type": "stream",
     "text": [
      "97\n"
     ]
    }
   ],
   "source": [
    "n= X.size\n",
    "print(n)"
   ]
  },
  {
   "cell_type": "markdown",
   "metadata": {
    "colab_type": "text",
    "id": "06sqjf8D_KCS"
   },
   "source": [
    "### 2.1 Plotting the Data\n",
    "\n",
    "Before starting on any task, it is often useful to understand the data by visualizing it. For this dataset, you can use a scatter plot to visualize the data, since it has only two properties to plot (profit and population). Many other problems that you will encounter in real life are multi-dimensional and cannot be plotted on a 2-d plot. There are many plotting libraries in python (see this [blog post](https://blog.modeanalytics.com/python-data-visualization-libraries/) for a good summary of the most popular ones). \n",
    "\n",
    "In this course, we will be exclusively using `matplotlib` to do all our plotting. `matplotlib` is one of the most popular scientific plotting libraries in python and has extensive tools and functions to make beautiful plots. `pyplot` is a module within `matplotlib` which provides a simplified interface to `matplotlib`'s most common plotting tasks, mimicking MATLAB's plotting interface.\n",
    "\n",
    "<div class=\"alert alert-block alert-warning\">\n",
    "You might have noticed that we have imported the `pyplot` module at the beginning of this exercise using the command `from matplotlib import pyplot`. This is rather uncommon, and if you look at python code elsewhere or in the `matplotlib` tutorials, you will see that the module is named `plt`. This is used by module renaming by using the import command `import matplotlib.pyplot as plt`. We will not using the short name of `pyplot` module in this class exercises, but you should be aware of this deviation from norm.\n",
    "</div>\n",
    "\n",
    "\n",
    "In the following part, your first job is to complete the `plotData` function below. Modify the function and fill in the following code:\n",
    "\n",
    "```python\n",
    "    pyplot.plot(x, y, 'ro', ms=10, mec='k')\n",
    "    pyplot.ylabel('Profit in $10,000')\n",
    "    pyplot.xlabel('Population of City in 10,000s')\n",
    "```"
   ]
  },
  {
   "cell_type": "code",
   "execution_count": 21,
   "metadata": {
    "colab": {},
    "colab_type": "code",
    "id": "mtBRxxhF_KCS"
   },
   "outputs": [],
   "source": [
    "def plotData(x, y):\n",
    "    \"\"\"\n",
    "    Plots the data points x and y into a new figure. Plots the data \n",
    "    points and gives the figure axes labels of population and profit.\n",
    "    \n",
    "    Parameters\n",
    "    ----------\n",
    "    x : array_like\n",
    "        Data point values for x-axis.\n",
    "\n",
    "    y : array_like\n",
    "        Data point values for y-axis. Note x and y should have the same size.\n",
    "    \n",
    "    Instructions\n",
    "    ------------\n",
    "    Plot the training data into a figure using the \"figure\" and \"plot\"\n",
    "    functions. Set the axes labels using the \"xlabel\" and \"ylabel\" functions.\n",
    "    Assume the population and revenue data have been passed in as the x\n",
    "    and y arguments of this function.    \n",
    "    \n",
    "    Hint\n",
    "    ----\n",
    "    You can use the 'ro' option with plot to have the \n",
    "    \"\"markers appear\"\" as red circles.\n",
    "    \n",
    "    Furthermore, you can make the markers larger by\n",
    "    using plot(..., 'ro', ms=10), \n",
    "    \n",
    "    where `ms` refers to \"\"marker size\"\". \n",
    "    \n",
    "    You can also set the marker edge color using the `mec` property.\n",
    "    \"\"\"\n",
    "    # open a new figure\n",
    "    fig = pyplot.figure()  \n",
    "    \n",
    "    pyplot.plot(x, y, 'bo', ms=5, mec='k')\n",
    "    pyplot.ylabel('Profit in $10,000')\n",
    "    pyplot.xlabel('Population of City in 10,000s')\n",
    "    # =============================================================\n"
   ]
  },
  {
   "cell_type": "markdown",
   "metadata": {
    "colab_type": "text",
    "id": "9gBFxSv4_KCV"
   },
   "source": [
    "Now run the defined function with the loaded data to visualize the data. \n",
    "\n",
    "![](Figures/dataset1.png)\n",
    "\n",
    "Execute the next cell to visualize the data."
   ]
  },
  {
   "cell_type": "code",
   "execution_count": 22,
   "metadata": {
    "colab": {},
    "colab_type": "code",
    "id": "y4HqF5zT_KCV"
   },
   "outputs": [
    {
     "data": {
      "image/png": "[encoded data removed]",
      "text/plain": [
       "<Figure size 432x288 with 1 Axes>"
      ]
     },
     "metadata": {
      "needs_background": "light"
     },
     "output_type": "display_data"
    }
   ],
   "source": [
    "plotData(X, y)"
   ]
  },
  {
   "cell_type": "markdown",
   "metadata": {
    "colab_type": "text",
    "id": "JNdFstlL_KCa"
   },
   "source": [
    "To quickly learn more about the `matplotlib` plot function and what arguments you can provide to it, you can type `?pyplot.plot` in a cell within the jupyter notebook. This opens a separate page showing the documentation for the requested function. You can also search online for plotting documentation. \n",
    "\n",
    "To set the markers to red circles, we used the option `'or'` within the `plot` function."
   ]
  },
  {
   "cell_type": "code",
   "execution_count": 23,
   "metadata": {
    "colab": {},
    "colab_type": "code",
    "id": "vNUkRFE-_KCa"
   },
   "outputs": [],
   "source": [
    "# IF NEEDED YOU CAN UNCOMMENT THE BELOW LINE AND RUN TO LEARN MORE ABOUT THE FUNCTION\n",
    "#?pyplot.plot"
   ]
  },
  {
   "cell_type": "markdown",
   "metadata": {
    "colab_type": "text",
    "id": "kjXBs0ID_KCc"
   },
   "source": [
    "<a id=\"section2\"></a>\n",
    "### 2.2 Gradient Descent\n",
    "\n",
    "In this part, you will fit the linear regression parameters $\\theta$ to our dataset using gradient descent.\n",
    "\n",
    "#### 2.2.1 Update Equations\n",
    "\n",
    "The objective of linear regression is to minimize the cost function\n",
    "\n",
    "$$ J(\\theta) = \\frac{1}{2m} \\sum_{i=1}^m \\left( h_{\\theta}(x^{(i)}) - y^{(i)}\\right)^2$$\n",
    "\n",
    "where the hypothesis $h_\\theta(x)$ is given by the linear model\n",
    "$$ h_\\theta(x) = \\theta^Tx = \\theta_0 + \\theta_1 x_1$$\n",
    "\n",
    "Recall that the parameters of your model are the $\\theta_j$ values. These are\n",
    "the values you will adjust to minimize cost $J(\\theta)$. One way to do this is to\n",
    "use the batch gradient descent algorithm. In batch gradient descent, each\n",
    "iteration performs the update\n",
    "\n",
    "$$ \\theta_j = \\theta_j - \\alpha \\frac{1}{m} \\sum_{i=1}^m \\left( h_\\theta(x^{(i)}) - y^{(i)}\\right)x_j^{(i)} \\qquad \\text{simultaneously update } \\theta_j \\text{ for all } j$$\n",
    "\n",
    "With each step of gradient descent, your parameters $\\theta_j$ come closer to the optimal values that will achieve the lowest cost J($\\theta$).\n",
    "\n",
    "<div class=\"alert alert-block alert-warning\">\n",
    "**Implementation Note:** We store each example as a row in the the $X$ matrix in Python `numpy`. To take into account the intercept term ($\\theta_0$), we add an additional first column to $X$ and set it to all ones. This allows us to treat $\\theta_0$ as simply another 'feature'.\n",
    "</div>\n",
    "\n",
    "\n",
    "#### 2.2.2 Implementation\n",
    "\n",
    "We have already set up the data for linear regression. In the following cell, we add another dimension to our data to accommodate the $\\theta_0$ intercept term. Do NOT execute this cell more than once."
   ]
  },
  {
   "cell_type": "code",
   "execution_count": 24,
   "metadata": {
    "colab": {},
    "colab_type": "code",
    "id": "p9n9P0wW_KCd"
   },
   "outputs": [],
   "source": [
    "# Add a column of ones to X. The numpy function stack joins arrays along a given axis. \n",
    "# The first axis (axis=0) refers to rows (training examples) \n",
    "# and second axis (axis=1) refers to columns (features).\n",
    "X = np.stack([np.ones(m), X], axis=1)"
   ]
  },
  {
   "cell_type": "markdown",
   "metadata": {
    "colab_type": "text",
    "id": "4-KOAfJR_KCf"
   },
   "source": [
    "<a id=\"section2\"></a>\n",
    "#### 2.2.3 Computing the cost $J(\\theta)$\n",
    "\n",
    "As you perform gradient descent to learn minimize the cost function $J(\\theta)$, it is helpful to monitor the convergence by computing the cost. In this section, you will implement a function to calculate $J(\\theta)$ so you can check the convergence of your gradient descent implementation. \n",
    "\n",
    "Your next task is to complete the code for the function `computeCost` which computes $J(\\theta)$. As you are doing this, remember that the variables $X$ and $y$ are not scalar values. $X$ is a matrix whose rows represent the examples from the training set and $y$ is a vector whose each elemennt represent the value at a given row of $X$.\n",
    "<a id=\"computeCost\"></a>"
   ]
  },
  {
   "cell_type": "code",
   "execution_count": 25,
   "metadata": {
    "colab": {},
    "colab_type": "code",
    "id": "0CSB132b_KCf"
   },
   "outputs": [],
   "source": [
    "def computeCost(X, y, theta):\n",
    "    \"\"\"\n",
    "    Compute cost for linear regression. Computes the cost of using theta as the\n",
    "    parameter for linear regression to fit the data points in X and y.\n",
    "    \n",
    "    Parameters\n",
    "    ----------\n",
    "    X : array_like\n",
    "        The input dataset of shape (m x n+1), where m is the number of examples,\n",
    "        and n is the number of features. We assume a vector of one's already \n",
    "        appended to the features so we have n+1 columns.\n",
    "    \n",
    "    y : array_like\n",
    "        The values of the function at each data point. This is a vector of\n",
    "        shape (m, ).\n",
    "    \n",
    "    theta : array_like\n",
    "        The parameters for the regression function. This is a vector of \n",
    "        shape (n+1, ).\n",
    "    \n",
    "    Returns\n",
    "    -------\n",
    "    J : float\n",
    "        The value of the regression cost function.\n",
    "    \n",
    "    Instructions\n",
    "    ------------\n",
    "    Compute the cost of a particular choice of theta. \n",
    "    You should set J to the cost.\n",
    "    \"\"\"\n",
    "    \n",
    "    # initialize some useful values\n",
    "      \n",
    "    # number of training examples in this can we have 97 as we can see above \n",
    "    m = y.size\n",
    "    \n",
    "    # You need to return the following variables correctly\n",
    "    J = 0\n",
    "    \n",
    "    predictions = X.dot(theta).flatten()\n",
    "\n",
    "    sqErrors = (predictions - y) ** 2\n",
    "\n",
    "    J = (1.0 / (2 * m)) * sqErrors.sum()\n",
    "\n",
    "    \n",
    "    # ===========================================================\n",
    "    return J"
   ]
  },
  {
   "cell_type": "markdown",
   "metadata": {
    "colab_type": "text",
    "id": "7tVbRXA4_KCi"
   },
   "source": [
    "Once you have completed the function, You can initialize $\\theta$ differently . You will see the cost printed to the screen."
   ]
  },
  {
   "cell_type": "code",
   "execution_count": 27,
   "metadata": {
    "colab": {},
    "colab_type": "code",
    "id": "E_CwU1Zp_KCi"
   },
   "outputs": [
    {
     "name": "stdout",
     "output_type": "stream",
     "text": [
      "With theta = [0, 0] \n",
      "Cost computed = 9425.66\n"
     ]
    }
   ],
   "source": [
    "# YOU CAN CHANGE THE VALUE OF A,B FOR DIFFERENT INITIALIZATIONS OF THETA\n",
    "A = 10.0\n",
    "B = 15.0\n",
    "J = computeCost(X, y, theta=np.array([A, B]))\n",
    "print('With theta = [0, 0] \\nCost computed = %.2f' % J)\n"
   ]
  },
  {
   "cell_type": "markdown",
   "metadata": {
    "colab_type": "text",
    "id": "4ChnU_FD_KCl"
   },
   "source": [
    "<a id=\"section3\"></a>\n",
    "#### 2.2.4 Gradient descent\n",
    "\n",
    "Next, you will complete a function which implements gradient descent.\n",
    "The loop structure has been written for you, and you only need to supply the updates to $\\theta$ within each iteration. \n",
    "\n",
    "As you program, make sure you understand what you are trying to optimize and what is being updated. Keep in mind that the cost $J(\\theta)$ is parameterized by the vector $\\theta$, not $X$ and $y$. That is, we minimize the value of $J(\\theta)$ by changing the values of the vector $\\theta$, not by changing $X$ or $y$. [Refer to the equations in this notebook](#section2) and to the video lectures if you are uncertain. A good way to verify that gradient descent is working correctly is to look at the value of $J(\\theta)$ and check that it is decreasing with each step. \n",
    "\n",
    "The starter code for the function `gradientDescent` calls `computeCost` on every iteration and saves the cost to a `python` list. Assuming you have implemented gradient descent and `computeCost` correctly, your value of $J(\\theta)$ should never increase, and should converge to a steady value by the end of the algorithm.\n",
    "\n",
    "<div class=\"alert alert-box alert-warning\">\n",
    "**Vectors and matrices in `numpy`** - Important implementation notes\n",
    "\n",
    "A vector in `numpy` is a one dimensional array, for example `np.array([1, 2, 3])` is a vector. A matrix in `numpy` is a two dimensional array, for example `np.array([[1, 2, 3], [4, 5, 6]])`. However, the following is still considered a matrix `np.array([[1, 2, 3]])` since it has two dimensions, even if it has a shape of 1x3 (which looks like a vector).\n",
    "\n",
    "Given the above, the function `np.dot` which we will use for all matrix/vector multiplication has the following properties:\n",
    "- It always performs inner products on vectors. If `x=np.array([1, 2, 3])`, then `np.dot(x, x)` is a scalar.\n",
    "- For matrix-vector multiplication, so if $X$ is a $m\\times n$ matrix and $y$ is a vector of length $m$, then the operation `np.dot(y, X)` considers $y$ as a $1 \\times m$ vector. On the other hand, if $y$ is a vector of length $n$, then the operation `np.dot(X, y)` considers $y$ as a $n \\times 1$ vector.\n",
    "- A vector can be promoted to a matrix using `y[None]` or `[y[np.newaxis]`. That is, if `y = np.array([1, 2, 3])` is a vector of size 3, then `y[None, :]` is a matrix of shape $1 \\times 3$. We can use `y[:, None]` to obtain a shape of $3 \\times 1$.\n",
    "<div>\n",
    "<a id=\"gradientDescent\"></a>"
   ]
  },
  {
   "cell_type": "code",
   "execution_count": 28,
   "metadata": {
    "colab": {},
    "colab_type": "code",
    "id": "904i3ztS_KCl"
   },
   "outputs": [],
   "source": [
    "def gradientDescent(X, y, theta, alpha, num_iters):\n",
    "    \"\"\"\n",
    "    Performs gradient descent to learn `theta`. Updates theta by taking `num_iters`\n",
    "    gradient steps with learning rate `alpha`.\n",
    "    \n",
    "    Parameters\n",
    "    ----------\n",
    "    X : array_like\n",
    "        The input dataset of shape (m x n+1).\n",
    "    \n",
    "    y : array_like\n",
    "        Value at given features. A vector of shape (m, ).\n",
    "    \n",
    "    theta : array_like\n",
    "        Initial values for the linear regression parameters. \n",
    "        A vector of shape (n+1, ).\n",
    "    \n",
    "    alpha : float\n",
    "        The learning rate.\n",
    "    \n",
    "    num_iters : int\n",
    "        The number of iterations for gradient descent. \n",
    "    \n",
    "    Returns\n",
    "    -------\n",
    "    theta : array_like\n",
    "        The learned linear regression parameters. A vector of shape (n+1, ).\n",
    "    \n",
    "    J_history : list\n",
    "        A python list for the values of the cost function after each iteration.\n",
    "    \n",
    "    Instructions\n",
    "    ------------\n",
    "    Peform a single gradient step on the parameter vector theta.\n",
    "\n",
    "    While debugging, it can be useful to print out the values of \n",
    "    the cost function (computeCost) and gradient here.\n",
    "    \"\"\"\n",
    "    # Initialize some useful values\n",
    "    m = y.shape[0]  # number of training examples\n",
    "    \n",
    "    # make a copy of theta, to avoid changing the original array, since numpy arrays\n",
    "    # are passed by reference to functions\n",
    "    theta = theta.copy()\n",
    "    \n",
    "    J_history = []\n",
    "    # Use a python list to save cost in every iteration\n",
    "    \n",
    "    for i in range(num_iters):\n",
    "        predictions = X.dot(theta).flatten()\n",
    "        errors_x1 = (predictions - y) * X[:, 0]\n",
    "        errors_x2 = (predictions - y) * X[:, 1]\n",
    "        theta[0] = theta[0] - alpha * (1.0 / m) * errors_x1.sum()\n",
    "        theta[1] = theta[1] - alpha * (1.0 / m) * errors_x2.sum()\n",
    "        J_history.append(computeCost(X, y, theta))\n",
    "    \n",
    "\n",
    "        # =====================================================================\n",
    "        \n",
    "        # save the cost J in every iteration\n",
    "    \n",
    "    \n",
    "    return theta, J_history"
   ]
  },
  {
   "cell_type": "markdown",
   "metadata": {
    "colab_type": "text",
    "id": "VcqHtO8L_KCn"
   },
   "source": [
    "After you are finished call the implemented `gradientDescent` function and print the computed $\\theta$. We initialize the $\\theta$ parameters to 0 and the learning rate $\\alpha$ to 0.01. Execute the following cell to check your code."
   ]
  },
  {
   "cell_type": "code",
   "execution_count": 69,
   "metadata": {
    "colab": {},
    "colab_type": "code",
    "id": "NfzadPye_KCo"
   },
   "outputs": [
    {
     "name": "stdout",
     "output_type": "stream",
     "text": [
      "Theta found by gradient descent: -3.6303, 1.1664\n",
      "[6.7371904648700065, 5.9315935686049555, 5.901154707081388, 5.895228586444221, 5.8900949431173295, 5.885004158443647, 5.879932480491418, 5.874879094762575, 5.869843911806385, 5.86482686531293, 5.859827889932181, 5.85484692057229, 5.849883892376587, 5.844938740722034, 5.840011401218361, 5.835101809707226, 5.830209902261388, 5.825335615183863, 5.820478885007099, 5.815639648492154, 5.810817842627869, 5.806013404630044, 5.801226271940628, 5.7964563822269, 5.7917036733806535, 5.7869680835173956, 5.782249550975539, 5.777548014315596, 5.7728634123193805, 5.768195683989212, 5.76354476854712, 5.758910605434047, 5.754293134309077, 5.749692295048628, 5.745108027745684, 5.740540272709012, 5.735988970462381, 5.731454061743792, 5.726935487504702, 5.722433188909257, 5.717947107333528, 5.713477184364749, 5.709023361800549, 5.704585581648198, 5.7001637861238565, 5.695757917651815, 5.691367918863752, 5.68699373259798, 5.682635301898707, 5.678292570015292, 5.673965480401506, 5.6696539767147955, 5.6653580028155535, 5.661077502766379, 5.6568124208313595, 5.6525627014753335, 5.648328289363181, 5.644109129359092, 5.639905166525854, 5.635716346124135, 5.631542613611772, 5.627383914643054, 5.623240195068026, 5.619111400931778, 5.61499747847374, 5.610898374126984, 5.60681403451753, 5.602744406463646, 5.598689436975159, 5.594649073252759, 5.590623262687323, 5.586611952859217, 5.5826150915376225, 5.578632626679852, 5.574664506430678, 5.570710679121643, 5.566771093270403, 5.562845697580051, 5.558934440938442, 5.555037272417542, 5.551154141272753, 5.547284996942256, 5.5434297890463515, 5.539588467386808, 5.535760981946203, 5.531947282887275, 5.5281473205522715, 5.524361045462306, 5.520588408316713, 5.5168293599924025, 5.513083851543225, 5.5093518341993315, 5.5056332593665385, 5.501928078625699, 5.498236243732065, 5.494557706614666, 5.490892419375677, 5.487240334289805, 5.483601403803652, 5.479975580535112, 5.476362817272741, 5.472763066975151, 5.469176282770398, 5.465602417955358, 5.462041425995136, 5.4584932605224585, 5.454957875337047, 5.451435224405051, 5.447925261858423, 5.444427941994333, 5.440943219274565, 5.437471048324934, 5.434011383934687, 5.430564181055919, 5.427129394802985, 5.423706980451918, 5.420296893439836, 5.416899089364382, 5.413513523983123, 5.410140153212987, 5.406778933129693, 5.403429819967165, 5.4000927701169745, 5.396767740127768, 5.393454686704697, 5.390153566708862, 5.386864337156746, 5.383586955219661, 5.380321378223178, 5.37706756364658, 5.373825469122317, 5.37059505243543, 5.367376271523024, 5.364169084473712, 5.360973449527068, 5.357789325073084, 5.354616669651632, 5.3514554419519165, 5.348305600811943, 5.34516710521798, 5.342039914304029, 5.338923987351284, 5.335819283787603, 5.332725763186988, 5.329643385269053, 5.326572109898499, 5.323511897084587, 5.32046270698063, 5.317424499883461, 5.314397236232924, 5.311380876611354, 5.3083753817430726, 5.305380712493861, 5.302396829870465, 5.2994236950200815, 5.296461269229852, 5.29350951392636, 5.290568390675129, 5.287637861180118, 5.284717887283231, 5.281808430963811, 5.278909454338153, 5.276020919659, 5.273142789315069, 5.270275025830544, 5.267417591864592, 5.264570450210886, 5.261733563797111, 5.258906895684482, 5.256090409067274, 5.253284067272322, 5.250487833758565, 5.2477016721165555, 5.244925546067995, 5.242159419465253, 5.2394032562909025, 5.236657020657251, 5.2339206768058695, 5.2311941891071285, 5.228477522059736, 5.225770640290271, 5.223073508552728, 5.220386091728055, 5.217708354823696, 5.215040262973137, 5.212381781435449, 5.2097328755948435, 5.207093510960208, 5.204463653164672, 5.201843267965149, 5.199232321241896, 5.196630778998063, 5.194038607359259, 5.191455772573107, 5.188882241008802, 5.1863179791566765, 5.18376295362776, 5.181217131153349, 5.1786804785845755, 5.176152962891966, 5.173634551165021, 5.171125210611782, 5.168624908558404, 5.166133612448731, 5.163651289843875, 5.161177908421789, 5.15871343597685, 5.156257840419434, 5.153811089775505, 5.151373152186197, 5.148943995907395, 5.146523589309322, 5.144111900876139, 5.141708899205515, 5.139314553008234, 5.136928831107778, 5.134551702439932, 5.132183136052364, 5.129823101104237, 5.127471566865799, 5.12512850271798, 5.122793878152007, 5.120467662768992, 5.1181498262795415, 5.115840338503367, 5.113539169368884, 5.111246288912825, 5.108961667279848, 5.10668527472215, 5.104417081599077, 5.102157058376736, 5.099905175627619, 5.097661404030211, 5.095425714368609, 5.093198077532151, 5.090978464515021, 5.088766846415887, 5.086563194437517, 5.084367479886401, 5.082179674172386, 5.079999748808296, 5.0778276754095675, 5.075663425693872, 5.0735069714807555, 5.071358284691268, 5.069217337347596, 5.067084101572705, 5.064958549589969, 5.06284065372281, 5.060730386394342, 5.05862772012701, 5.056532627542231, 5.0544450813600355, 5.052365054398719, 5.050292519574479, 5.0482274499010735, 5.046169818489457, 5.044119598547441, 5.04207676337934, 5.040041286385626, 5.038013141062576, 5.035992301001939, 5.033978739890578, 5.03197243151014, 5.029973349736707, 5.027981468540455, 5.025996761985324, 5.024019204228667, 5.022048769520927, 5.020085432205293, 5.018129166717367, 5.016179947584834, 5.014237749427129, 5.012302546955106, 5.010374314970709, 5.008453028366643, 5.006538662126046, 5.004631191322175, 5.002730591118061, 5.0008368367662, 4.998949903608226, 4.997069767074595, 4.995196402684257, 4.993329786044343, 4.991469892849845, 4.9896166988833, 4.987770180014478, 4.98593031220006, 4.984097071483332, 4.982270433993872, 4.9804503759472345, 4.978636873644648, 4.976829903472699, 4.975029441903031, 4.973235465492034, 4.97144795088054, 4.969666874793521, 4.967892214039785, 4.966123945511668, 4.964362046184744, 4.962606493117519, 4.96085726345113, 4.959114334409053, 4.957377683296804, 4.95564728750164, 4.9539231244922695, 4.95220517181856, 4.95049340711124, 4.948787808081611, 4.9470883525212574, 4.945395018301759, 4.943707783374399, 4.942026625769877, 4.940351523598029, 4.938682455047537, 4.937019398385641, 4.935362331957869, 4.933711234187743, 4.9320660835764984, 4.930426858702819, 4.928793538222534, 4.927166100868362, 4.925544525449623, 4.923928790851962, 4.922318876037079, 4.920714760042453, 4.919116421981069, 4.91752384104114, 4.915936996485853, 4.914355867653075, 4.912780433955111, 4.911210674878409, 4.9096465699833125, 4.908088098903784, 4.906535241347148, 4.904987977093815, 4.903446285997033, 4.90191014798261, 4.9003795430486665, 4.898854451265366, 4.897334852774656, 4.895820727790016, 4.894312056596192, 4.892808819548944, 4.89131099707479, 4.889818569670748, 4.88833151790409, 4.88684982241208, 4.885373463901725, 4.883902423149523, 4.88243668100122, 4.880976218371547, 4.879521016243985, 4.878071055670509, 4.876626317771341, 4.875186783734713, 4.87375243481661, 4.872323252340535, 4.8708992176972625, 4.869480312344595, 4.868066517807122, 4.866657815675987, 4.865254187608633, 4.863855615328574, 4.862462080625159, 4.861073565353324, 4.859690051433372, 4.858311520850714, 4.856937955655664, 4.855569337963178, 4.85420564995264, 4.852846873867617, 4.85149299201564, 4.850143986767962, 4.8487998405593355, 4.847460535887785, 4.84612605531437, 4.8447963814629675, 4.843471497020045, 4.842151384734429, 4.840836027417081, 4.839525407940883, 4.838219509240404, 4.836918314311682, 4.835621806212003, 4.834329968059677, 4.833042783033826, 4.831760234374157, 4.830482305380745, 4.829208979413817, 4.827940239893541, 4.826676070299799, 4.825416454171979, 4.824161375108761, 4.822910816767898, 4.821664762866011, 4.820423197178371, 4.819186103538688, 4.817953465838902, 4.816725268028978, 4.8155014941166865, 4.814282128167403, 4.813067154303901, 4.811856556706141, 4.8106503196110655, 4.809448427312395, 4.808250864160424, 4.807057614561817, 4.805868662979403, 4.804683993931975, 4.80350359199409, 4.802327441795866, 4.80115552802278, 4.799987835415476, 4.798824348769555, 4.7976650529353915, 4.796509932817919, 4.795358973376449, 4.7942121596244665, 4.793069476629436, 4.791930909512612, 4.790796443448837, 4.789666063666354, 4.788539755446614, 4.787417504124084, 4.786299295086054, 4.785185113772448, 4.784074945675635, 4.782968776340239, 4.781866591362954, 4.780768376392351, 4.779674117128695, 4.778583799323759, 4.777497408780635, 4.7764149313535516, 4.775336352947692, 4.774261659519005, 4.773190837074031, 4.772123871669708, 4.771060749413197, 4.770001456461701, 4.768945979022287, 4.767894303351698, 4.7668464157561825, 4.765802302591315, 4.764761950261812, 4.763725345221363, 4.7626924739724465, 4.761663323066164, 4.760637879102053, 4.759616128727925, 4.75859805863968, 4.75758365558114, 4.7565729063438775, 4.755565797767038, 4.7545623167371724, 4.753562450188067, 4.752566185100569, 4.751573508502425, 4.750584407468098, 4.7495988691186195, 4.7486168806214, 4.7476384291900775, 4.7466635020843455, 4.745692086609786, 4.744724170117706, 4.743759740004973, 4.742798783713851, 4.741841288731831, 4.740887242591483, 4.739936632870274, 4.738989447190423, 4.738045673218728, 4.737105298666416, 4.736168311288972, 4.735234698885989, 4.734304449301005, 4.733377550421342, 4.732453990177952, 4.731533756545261, 4.730616837541011, 4.729703221226098, 4.7287928957044265, 4.7278858491227505, 4.726982069670518, 4.726081545579717, 4.725184265124721, 4.724290216622142, 4.723399388430677, 4.722511768950946, 4.721627346625359, 4.7207461099379495, 4.719868047414232, 4.718993147621053, 4.7181213991664395, 4.717252790699451, 4.716387310910035, 4.715524948528875, 4.7146656923272445, 4.713809531116866, 4.712956453749759, 4.712106449118099, 4.711259506154066, 4.710415613829716, 4.709574761156817, 4.708736937186721, 4.707902131010216, 4.707070331757381, 4.706241528597454, 4.70541571073868, 4.7045928674281745, 4.7037729879517896, 4.702956061633963, 4.70214207783759, 4.701331025963877, 4.700522895452206, 4.699717675780004, 4.698915356462592, 4.6981159270530615, 4.6973193771421275, 4.696525696358007, 4.695734874366266, 4.694946900869702, 4.694161765608201, 4.6933794583586, 4.692599968934568, 4.691823287186457, 4.691049403001182, 4.69027830630208, 4.689509987048791, 4.688744435237113, 4.68798164089888, 4.6872215941018345, 4.686464284949491, 4.685709703581008, 4.684957840171069, 4.684208684929745, 4.683462228102367, 4.682718459969402, 4.681977370846331, 4.681238951083514, 4.680503191066067, 4.679770081213745, 4.679039611980803, 4.678311773855883, 4.677586557361888, 4.676863953055852, 4.676143951528824, 4.675426543405748, 4.674711719345328, 4.673999470039924, 4.673289786215412, 4.672582658631084, 4.671878078079505, 4.671176035386413, 4.6704765214105874, 4.669779527043733, 4.669085043210365, 4.668393060867689, 4.667703571005477, 4.667016564645957, 4.666332032843698, 4.665649966685489, 4.664970357290219, 4.664293195808771, 4.6636184734239015, 4.662946181350124, 4.662276310833599, 4.661608853152018, 4.660943799614486, 4.660281141561418, 4.659620870364415, 4.65896297742616, 4.658307454180302, 4.657654292091346, 4.657003482654543, 4.6563550173957715, 4.65570888787144, 4.655065085668367, 4.654423602403678, 4.653784429724688, 4.653147559308802, 4.6525129828634, 4.651880692125735, 4.651250678862817, 4.650622934871314, 4.649997451977443, 4.649374222036858, 4.648753236934556, 4.648134488584754, 4.647517968930801, 4.646903669945062, 4.64629158362882, 4.6456817020121655, 4.645074017153899, 4.644468521141423, 4.6438652060906405, 4.643264064145854, 4.642665087479662, 4.6420682682928565, 4.6414735988143185, 4.6408810713009245, 4.64029067803744, 4.63970241133642, 4.6391162635381065, 4.638532227010339, 4.637950294148439, 4.637370457375124, 4.636792709140407, 4.636217041921488, 4.6356434482226705, 4.635071920575256, 4.634502451537443, 4.633935033694241, 4.633369659657368, 4.632806322065146, 4.632245013582422, 4.63168572690046, 4.63112845473685, 4.630573189835415, 4.630019924966111, 4.6294686529249365, 4.628919366533842, 4.62837205864063, 4.627826722118864, 4.627283349867779, 4.626741934812184, 4.626202469902373, 4.625664948114038, 4.625129362448163, 4.6245957059309495, 4.624063971613714, 4.623534152572803, 4.623006241909502, 4.622480232749945, 4.621956118245025, 4.621433891570306, 4.620913545925933, 4.62039507453654, 4.619878470651173, 4.619363727543187, 4.6188508385101725, 4.618339796873855, 4.6178305959800205, 4.617323229198419, 4.6168176899226845, 4.61631397157025, 4.61581206758225, 4.615311971423451, 4.6148136765821555, 4.614317176570122, 4.613822464922479, 4.613329535197642, 4.612838380977227, 4.612348995865971, 4.611861373491642, 4.611375507504967, 4.6108913915795355, 4.610409019411731, 4.609928384720636, 4.609449481247963, 4.60897230275796, 4.608496843037341, 4.608023095895197, 4.60755105516292, 4.60708071469412, 4.606612068364546, 4.606145110072004, 4.605679833736285, 4.605216233299077, 4.604754302723889, 4.604294035995977, 4.603835427122257, 4.603378470131232, 4.60292315907292, 4.602469488018764, 4.602017451061565, 4.601567042315398, 4.601118255915542, 4.6006710860184, 4.60022552680142, 4.59978157246303, 4.599339217222544, 4.598898455320108, 4.5984592810166065, 4.598021688593604, 4.5975856723532535, 4.597151226618241, 4.596718345731694, 4.596287024057119, 4.595857255978325, 4.595429035899349, 4.595002358244384, 4.5945772174577115, 4.594153608003617, 4.593731524366329, 4.593310961049946, 4.592891912578358, 4.592474373495182, 4.592058338363686, 4.591643801766726, 4.591230758306666, 4.590819202605312, 4.590409129303844, 4.590000533062744, 4.589593408561724, 4.5891877504996605, 4.588783553594528, 4.588380812583321, 4.587979522221995, 4.587579677285394, 4.587181272567178, 4.586784302879765, 4.586388763054259, 4.585994647940378, 4.585601952406391, 4.585210671339057, 4.5848207996435475, 4.584432332243385, 4.584045264080381, 4.583659590114562, 4.583275305324111, 4.582892404705298, 4.582510883272418, 4.582130736057722, 4.581751958111354, 4.581374544501292, 4.580998490313272, 4.580623790650735, 4.58025044063476, 4.579878435403997, 4.579507770114606, 4.579138439940198, 4.5787704400717635, 4.578403765717618, 4.578038412103337, 4.577674374471689, 4.577311648082583, 4.576950228212997, 4.576590110156924, 4.5762312892253085, 4.57587376074598, 4.575517520063601, 4.575162562539602, 4.574808883552121, 4.574456478495942, 4.574105342782438, 4.573755471839512, 4.573406861111529, 4.573059506059272, 4.572713402159867, 4.572368544906735, 4.572024929809526, 4.571682552394068, 4.5713414082023025, 4.571001492792229, 4.5706628017378454, 4.570325330629094, 4.569989075071803, 4.569654030687623, 4.56932019311398, 4.568987558004012, 4.568656121026514, 4.568325877865882, 4.567996824222056, 4.567668955810466, 4.5673422683619735, 4.567016757622818, 4.566692419354559, 4.566369249334027, 4.566047243353257, 4.565726397219447, 4.565406706754897, 4.56508816779695, 4.56477077619795, 4.564454527825168, 4.564139418560777, 4.563825444301771, 4.563512600959929, 4.563200884461748, 4.562890290748406, 4.562580815775695, 4.562272455513976, 4.561965205948124, 4.561659063077476, 4.5613540229157845, 4.561050081491149, 4.560747234845985, 4.560445479036962, 4.560144810134948, 4.559845224224967, 4.559546717406144, 4.559249285791657, 4.558952925508681, 4.558657632698341, 4.558363403515664, 4.558070234129523, 4.557778120722592, 4.557487059491294, 4.557197046645756, 4.5569080784097515, 4.556620151020655, 4.556333260729399, 4.556047403800417, 4.5557625765115946, 4.555478775154231, 4.555195996032979, 4.554914235465802, 4.554633489783926, 4.554353755331797, 4.554075028467021, 4.553797305560327, 4.553520582995515, 4.553244857169412, 4.552970124491824, 4.552696381385487, 4.552423624286018, 4.5521518496418825, 4.551881053914331, 4.551611233577363, 4.551342385117678, 4.551074505034629, 4.550807589840181, 4.550541636058859, 4.550276640227711, 4.550012598896252, 4.549749508626433, 4.549487365992583, 4.549226167581371, 4.5489659099917645, 4.548706589834975, 4.548448203734425, 4.548190748325698, 4.547934220256497, 4.547678616186597, 4.547423932787805, 4.547170166743919, 4.546917314750677, 4.546665373515724, 4.54641433975856, 4.5461642102105015, 4.545914981614641, 4.5456666507258, 4.54541921431049, 4.545172669146869, 4.544927012024697, 4.544682239745306, 4.544438349121538, 4.5441953369777215, 4.543953200149623, 4.543711935484407, 4.543471539840591, 4.543232010088012, 4.542993343107778, 4.542755535792233, 4.542518585044917, 4.542282487780517, 4.542047240924838, 4.541812841414758, 4.5415792861981865, 4.541346572234026, 4.541114696492135, 4.540883655953286, 4.540653447609123, 4.540424068462133, 4.540195515525591, 4.539967785823538, 4.53974087639073, 4.539514784272603, 4.539289506525238, 4.53906504021532, 4.538841382420094, 4.538618530227342, 4.538396480735327, 4.538175231052766, 4.537954778298796, 4.537735119602923, 4.537516252104995, 4.537298172955165, 4.537080879313847, 4.5368643683516865, 4.536648637249516, 4.536433683198326, 4.536219503399223, 4.536006095063398, 4.535793455412081, 4.535581581676516, 4.535370471097922, 4.53516012092745, 4.534950528426151, 4.534741690864945, 4.534533605524584, 4.534326269695612, 4.534119680678328, 4.533913835782764, 4.533708732328634, 4.5335043676453095, 4.533300739071782, 4.533097843956624, 4.532895679657962, 4.532694243543437, 4.532493532990171, 4.532293545384737, 4.532094278123115, 4.53189572861067, 4.531697894262111, 4.531500772501458, 4.531304360762013, 4.531108656486318, 4.5309136571261295, 4.530719360142383, 4.53052576300516, 4.530332863193653, 4.530140658196134, 4.529949145509925, 4.529758322641359, 4.529568187105754, 4.529378736427375, 4.5291899681394066, 4.529001879783919, 4.5288144689118335, 4.5286277330828915, 4.528441669865631, 4.528256276837341, 4.52807155158404, 4.527887491700442, 4.527704094789922, 4.52752135846449, 4.527339280344757, 4.527157858059904, 4.52697708924765, 4.526796971554227, 4.52661750263434, 4.526438680151146, 4.526260501776218, 4.526082965189512, 4.5259060680793475, 4.525729808142365, 4.525554183083503, 4.525379190615968, 4.525204828461203, 4.525031094348856, 4.524857986016757, 4.524685501210879, 4.524513637685319, 4.524342393202259, 4.524171765531945, 4.524001752452654, 4.523832351750661, 4.523663561220222, 4.523495378663533, 4.523327801890707, 4.523160828719746, 4.5229944569765115, 4.522828684494693, 4.522663509115789, 4.522498928689068, 4.522334941071547, 4.52217154412796, 4.522008735730734, 4.521846513759959, 4.52168487610336, 4.521523820656275, 4.521363345321613, 4.521203448009849, 4.521044126638972, 4.520885379134478, 4.520727203429336, 4.520569597463955, 4.520412559186165, 4.520256086551191, 4.520100177521617, 4.51994483006737, 4.519790042165688, 4.519635811801097, 4.519482136965377, 4.519329015657547, 4.519176445883833, 4.519024425657638, 4.518872952999525, 4.518722025937183, 4.518571642505413, 4.518421800746084, 4.518272498708126, 4.518123734447491, 4.517975506027139, 4.517827811517002, 4.517680648993969, 4.517534016541849, 4.517387912251361, 4.517242334220096, 4.517097280552497, 4.51695274935984, 4.516808738760196, 4.516665246878423, 4.516522271846126, 4.516379811801646, 4.516237864890023, 4.516096429262984, 4.515955503078914, 4.515815084502823, 4.5156751717063415, 4.515535762867679, 4.515396856171607, 4.51525844980944, 4.515120541978999, 4.514983130884608, 4.514846214737048, 4.51470979175355, 4.514573860157765, 4.514438418179744, 4.514303464055912, 4.5141689960290465, 4.514035012348253, 4.513901511268946, 4.513768491052821, 4.51363594996784, 4.5135038862881975, 4.513372298294308, 4.513241184272777, 4.5131105425163875, 4.512980371324064, 4.512850669000864, 4.512721433857947, 4.512592664212556, 4.512464358387996, 4.512336514713613, 4.5122091315247665, 4.512082207162816, 4.511955739975092, 4.51182972831488, 4.511704170541396, 4.511579065019767, 4.511454410121005, 4.511330204221998, 4.511206445705468, 4.511083132959974, 4.510960264379873, 4.510837838365307, 4.51071585332218, 4.510594307662139, 4.510473199802552, 4.510352528166485, 4.510232291182688, 4.510112487285566, 4.509993114915171, 4.509874172517162, 4.509755658542808, 4.50963757144895, 4.509519909697992, 4.509402671757868, 4.509285856102039, 4.509169461209461, 4.509053485564569, 4.508937927657257, 4.508822785982858, 4.508708059042126, 4.508593745341215, 4.5084798433916555, 4.508366351710347, 4.508253268819524, 4.508140593246748, 4.508028323524884, 4.507916458192077, 4.507804995791744, 4.507693934872545, 4.5075832739883674, 4.507473011698309, 4.507363146566655, 4.507253677162866, 4.507144602061551, 4.507035919842457, 4.506927629090446, 4.506819728395472, 4.506712216352574, 4.506605091561852, 4.5064983526284434, 4.506391998162513, 4.5062860267792315, 4.506180437098757, 4.506075227746218, 4.505970397351695, 4.505865944550205, 4.505761867981676, 4.5056581662909405, 4.505554838127713, 4.5054518821465654, 4.50534929700692, 4.505247081373027, 4.505145233913949, 4.505043753303542, 4.504942638220435, 4.504841887348023, 4.504741499374441, 4.504641472992545, 4.504541806899904, 4.504442499798778, 4.504343550396098, 4.504244957403458, 4.504146719537086, 4.50404883551784, 4.503951304071183, 4.503854123927169, 4.503757293820424, 4.503660812490136, 4.503564678680032, 4.503468891138365, 4.503373448617893, 4.503278349875875, 4.503183593674036, 4.503089178778568, 4.502995103960104, 4.502901367993708, 4.502807969658854, 4.502714907739412, 4.502622181023632, 4.502529788304132, 4.502437728377875, 4.5023460000461615, 4.502254602114604, 4.502163533393121, 4.502072792695919, 4.50198237884147, 4.501892290652508, 4.501802526956003, 4.501713086583154, 4.5016239683693655, 4.501535171154239, 4.501446693781558, 4.501358535099268, 4.501270693959463, 4.5011831692183755, 4.501095959736354, 4.501009064377854, 4.50092248201142, 4.500836211509674, 4.500750251749296, 4.500664601611016, 4.50057925997959, 4.500494225743796, 4.500409497796411, 4.500325075034203, 4.500240956357914, 4.500157140672242, 4.500073626885831, 4.49999041391126, 4.499907500665023, 4.499824886067513, 4.499742569043015, 4.49966054851969, 4.499578823429555, 4.49949739270848, 4.499416255296162, 4.499335410136122, 4.499254856175683, 4.499174592365959, 4.4990946176618465, 4.499014931022004, 4.498935531408839, 4.498856417788497, 4.498777589130851, 4.498699044409482, 4.498620782601665, 4.498542802688364, 4.49846510365421, 4.4983876844874935, 4.498310544180148, 4.498233681727737, 4.498157096129445, 4.498080786388058, 4.498004751509956, 4.4979289905050965, 4.497853502387004, 4.497778286172757, 4.497703340882972, 4.497628665541797, 4.497554259176892, 4.49748012081942, 4.497406249504031, 4.497332644268859, 4.497259304155494, 4.497186228208986, 4.497113415477821, 4.497040865013911, 4.496968575872585, 4.496896547112575, 4.496824777796001, 4.496753266988365, 4.49668201375853, 4.496611017178718, 4.496540276324488, 4.496469790274732, 4.496399558111662, 4.496329578920789, 4.4962598517909225, 4.496190375814155, 4.496121150085845, 4.496052173704616, 4.495983445772329, 4.495914965394089, 4.495846731678219, 4.495778743736255, 4.495711000682936, 4.495643501636185, 4.495576245717105, 4.495509232049965, 4.495442459762188, 4.495375927984336, 4.495309635850109, 4.4952435824963235, 4.4951777670629065, 4.495112188692882, 4.495046846532364, 4.494981739730535, 4.49491686743965, 4.494852228815012, 4.4947878230149705, 4.494723649200904, 4.494659706537212, 4.494595994191306, 4.494532511333592, 4.494469257137467, 4.494406230779307, 4.494343431438453, 4.494280858297199, 4.494218510540791, 4.494156387357401, 4.494094487938134, 4.494032811477003, 4.493971357170926, 4.493910124219711, 4.493849111826054, 4.493788319195518, 4.493727745536528, 4.493667390060364, 4.49360725198114, 4.493547330515808, 4.493487624884136, 4.4934281343087035, 4.4933688580148905, 4.493309795230867, 4.493250945187583, 4.493192307118759, 4.493133880260875, 4.493075663853161, 4.493017657137589, 4.492959859358857, 4.49290226976439, 4.492844887604319, 4.492787712131475, 4.492730742601387, 4.492673978272258, 4.492617418404968, 4.4925610622630545, 4.492504909112712, 4.492448958222776, 4.492393208864718, 4.4923376603126295, 4.49228231184322, 4.492227162735803, 4.492172212272289, 4.492117459737174, 4.492062904417529, 4.492008545602999, 4.49195438258578, 4.491900414660624, 4.491846641124821, 4.491793061278189, 4.491739674423075, 4.491686479864329, 4.491633476909316, 4.491580664867888, 4.491528043052385, 4.491475610777624, 4.491423367360893, 4.491371312121932, 4.491319444382939, 4.491267763468548, 4.491216268705828, 4.491164959424272, 4.4911138349557875, 4.4910628946346876, 4.491012137797685, 4.490961563783879, 4.490911171934753, 4.4908609615941595, 4.490810932108315, 4.490761082825793, 4.490711413097508, 4.4906619222767175, 4.490612609719008, 4.490563474782287, 4.490514516826771, 4.490465735214986, 4.4904171293117505, 4.490368698484175, 4.490320442101645, 4.49027235953582, 4.490224450160621, 4.490176713352229, 4.490129148489064, 4.490081754951793, 4.490034532123307, 4.489987479388724, 4.489940596135375, 4.489893881752801, 4.489847335632735, 4.489800957169107, 4.489754745758031, 4.489708700797792, 4.489662821688838, 4.48961710783379, 4.489571558637409, 4.489526173506604, 4.489480951850421, 4.489435893080035, 4.48939099660874, 4.489346261851942, 4.489301688227158, 4.489257275153997, 4.489213022054162, 4.48916892835144, 4.48912499347169, 4.489081216842843, 4.489037597894885, 4.488994136059861, 4.488950830771858, 4.488907681467004, 4.4888646875834555, 4.488821848561395, 4.48877916384302, 4.488736632872536, 4.488694255096154, 4.488652029962077, 4.488609956920497, 4.488568035423583, 4.488526264925482, 4.488484644882305, 4.488443174752122, 4.4884018539949535, 4.488360682072769, 4.4883196584494724, 4.488278782590899, 4.4882380539648095, 4.488197472040881, 4.488157036290699, 4.488116746187758, 4.488076601207442, 4.4880366008270265, 4.487996744525674, 4.487957031784418, 4.487917462086166, 4.487878034915683, 4.487838749759592, 4.487799606106368, 4.487760603446321, 4.487721741271607, 4.487683019076204, 4.487644436355913, 4.487605992608354, 4.487567687332955, 4.487529520030948, 4.487491490205359, 4.487453597361009, 4.487415841004497, 4.487378220644201, 4.487340735790273, 4.487303385954625, 4.48726617065093, 4.487229089394611, 4.487192141702837, 4.487155327094519, 4.487118645090292, 4.487082095212529, 4.487045676985316, 4.487009389934457, 4.4869732335874595, 4.48693720747354, 4.4869013111236, 4.486865544070243, 4.486829905847749, 4.486794395992074, 4.48675901404085, 4.4867237595333735, 4.486688632010599, 4.486653631015132, 4.486618756091234, 4.486584006784796, 4.486549382643356, 4.486514883216076, 4.486480508053741, 4.486446256708757, 4.486412128735142, 4.486378123688517, 4.486344241126109, 4.486310480606735, 4.4862768416908025, 4.486243323940307, 4.486209926918809, 4.48617665019146, 4.4861434933249615, 4.486110455887582, 4.4860775374491455, 4.4860447375810235, 4.486012055856135, 4.4859794918489335, 4.485947045135406, 4.485914715293069, 4.4858825019009565, 4.485850404539625, 4.485818422791137, 4.485786556239062, 4.485754804468467, 4.485723167065917, 4.485691643619467, 4.48566023371865, 4.485628936954484, 4.485597752919457, 4.4855666812075246, 4.485535721414104, 4.485504873136073, 4.48547413597176, 4.485443509520939, 4.485412993384826, 4.485382587166076, 4.485352290468769, 4.485322102898417, 4.485292024061953, 4.485262053567721, 4.485232191025481, 4.485202436046394, 4.485172788243023, 4.485143247229331, 4.485113812620665, 4.48508448403376, 4.485055261086734, 4.485026143399074, 4.484997130591648, 4.484968222286677, 4.484939418107754, 4.4849107176798215, 4.484882120629173, 4.484853626583452, 4.484825235171638, 4.484796946024051, 4.484768758772342, 4.484740673049487, 4.484712688489784, 4.4846848047288494, 4.484657021403614, 4.484629338152312, 4.484601754614484, 4.484574270430968, 4.484546885243894, 4.484519598696685, 4.484492410434042, 4.484465320101953, 4.484438327347678, 4.484411431819744, 4.484384633167951, 4.4843579310433554, 4.484331325098271, 4.484304814986266, 4.484278400362154, 4.484252080881994, 4.484225856203082, 4.4841997259839514, 4.4841736898843605, 4.484147747565299, 4.484121898688972, 4.4840961429188075, 4.48407047991944, 4.484044909356716, 4.484019430897683, 4.483994044210589, 4.483968748964877, 4.483943544831179, 4.483918431481319, 4.483893408588292, 4.483868475826285, 4.483843632870647, 4.483818879397901, 4.4837942150857355, 4.483769639613, 4.483745152659696, 4.483720753906987, 4.483696443037178, 4.483672219733719, 4.483648083681199, 4.483624034565349, 4.483600072073026, 4.483576195892218, 4.483552405712033, 4.483528701222707, 4.483505082115583, 4.48348154808312, 4.483458098818883, 4.483434734017543, 4.483411453374869, 4.483388256587725]\n"
     ]
    }
   ],
   "source": [
    "# initialize fitting parameters\n",
    "# FEEL FREE TO CHANGE ANY PARAMETER\n",
    "A = 0.0\n",
    "B = 0.0\n",
    "theta = np.array([A,B]) \n",
    "\n",
    "# some gradient descent settings\n",
    "iterations = 1500\n",
    "alpha = 0.01\n",
    "\n",
    "theta, J_history = gradientDescent(X ,y, theta, alpha, iterations)\n",
    "print('Theta found by gradient descent: {:.4f}, {:.4f}'.format(*theta))\n",
    "print(J_history)"
   ]
  },
  {
   "cell_type": "markdown",
   "metadata": {
    "colab_type": "text",
    "id": "U9shyrD8_KCq"
   },
   "source": [
    "<h5>We will use your final parameters to plot the linear fit. The results should look like the following figure.</h5>\n",
    "<img src=\"https://i.ibb.co/FY8L2mn/graph-w3.png\">"
   ]
  },
  {
   "cell_type": "code",
   "execution_count": 70,
   "metadata": {
    "colab": {},
    "colab_type": "code",
    "id": "CDGtpQA4_KCq"
   },
   "outputs": [
    {
     "data": {
      "image/png": "[encoded data removed]",
      "text/plain": [
       "<Figure size 432x288 with 1 Axes>"
      ]
     },
     "metadata": {
      "needs_background": "light"
     },
     "output_type": "display_data"
    }
   ],
   "source": [
    "# plot the linear fit\n",
    "plotData(X[:, 1], y)\n",
    "pyplot.plot(X[:, 1], np.dot(X, theta), '-')\n",
    "pyplot.legend(['Training data', 'Linear regression']);"
   ]
  },
  {
   "cell_type": "markdown",
   "metadata": {
    "colab_type": "text",
    "id": "JmrCXl34_KCs"
   },
   "source": [
    "Your final values for $\\theta$ will also be used to make predictions on profits in areas of 35,000 and 70,000 people.\n",
    "\n",
    "<div class=\"alert alert-block alert-success\">\n",
    "Note the way that the following lines use matrix multiplication, rather than explicit summation or looping, to calculate the predictions. This is an example of code vectorization in `numpy`.\n",
    "</div>\n",
    "\n",
    "<div class=\"alert alert-block alert-success\">\n",
    "Note that the first argument to the `numpy` function `dot` is a python list. `numpy` can internally converts **valid** python lists to numpy arrays when explicitly provided as arguments to `numpy` functions.\n",
    "</div>\n"
   ]
  },
  {
   "cell_type": "code",
   "execution_count": 71,
   "metadata": {
    "colab": {},
    "colab_type": "code",
    "id": "jcMSJyvI_KCs"
   },
   "outputs": [
    {
     "name": "stdout",
     "output_type": "stream",
     "text": [
      "For population = 70000.0\n",
      "we predict a profit of 45342.45\n",
      "\n"
     ]
    }
   ],
   "source": [
    "# Now you can predict values for various population sizes.\n",
    "population_size = 70000\n",
    "population_size = population_size/10000\n",
    "\n",
    "predict1 = np.dot([1, population_size], theta)\n",
    "print('For population = ' + str(population_size*10000))\n",
    "print('we predict a profit of {:.2f}\\n'.format(predict1*10000))\n",
    "\n"
   ]
  },
  {
   "cell_type": "code",
   "execution_count": 72,
   "metadata": {},
   "outputs": [
    {
     "name": "stdout",
     "output_type": "stream",
     "text": [
      "For population = 5000.0\n",
      "we predict a profit of -30471.10\n",
      "\n"
     ]
    }
   ],
   "source": [
    "population_size = 5000\n",
    "population_size = population_size/10000\n",
    "\n",
    "predict1 = np.dot([1, population_size], theta)\n",
    "print('For population = ' + str(population_size*10000))\n",
    "print('we predict a profit of {:.2f}\\n'.format(predict1*10000))"
   ]
  },
  {
   "cell_type": "code",
   "execution_count": 73,
   "metadata": {},
   "outputs": [
    {
     "name": "stdout",
     "output_type": "stream",
     "text": [
      "For population = 31124.9\n",
      "we predict a profit of -0.00\n",
      "\n"
     ]
    }
   ],
   "source": [
    "#critical case\n",
    "population_size = 31124.9\n",
    "population_size = population_size/10000\n",
    "\n",
    "predict1 = np.dot([1, population_size], theta)\n",
    "print('For population = ' + str(population_size*10000))\n",
    "print('we predict a profit of {:.2f}\\n'.format(predict1*10000))"
   ]
  },
  {
   "cell_type": "code",
   "execution_count": null,
   "metadata": {},
   "outputs": [],
   "source": []
  }
 ],
 "metadata": {
  "colab": {
   "collapsed_sections": [],
   "name": "exercise1.ipynb",
   "provenance": []
  },
  "kernelspec": {
   "display_name": "Python 3",
   "language": "python",
   "name": "python3"
  },
  "language_info": {
   "codemirror_mode": {
    "name": "ipython",
    "version": 3
   },
   "file_extension": ".py",
   "mimetype": "text/x-python",
   "name": "python",
   "nbconvert_exporter": "python",
   "pygments_lexer": "ipython3",
   "version": "3.7.6"
  }
 },
 "nbformat": 4,
 "nbformat_minor": 1
}
