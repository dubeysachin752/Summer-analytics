{
 "cells": [
  {
   "cell_type": "code",
   "execution_count": 1,
   "metadata": {},
   "outputs": [],
   "source": [
    "import pandas as pd\n",
    "import numpy as np\n",
    "from matplotlib import pyplot as plt\n",
    "%matplotlib inline\n",
    "import seaborn as sns\n",
    "import statistics\n"
   ]
  },
  {
   "cell_type": "code",
   "execution_count": 2,
   "metadata": {},
   "outputs": [
    {
     "name": "stderr",
     "output_type": "stream",
     "text": [
      "C:\\ProgramData\\Anaconda3\\lib\\site-packages\\IPython\\core\\interactiveshell.py:3063: DtypeWarning: Columns (7,8) have mixed types.Specify dtype option on import or set low_memory=False.\n",
      "  interactivity=interactivity, compiler=compiler, result=result)\n"
     ]
    }
   ],
   "source": [
    "df = pd.read_csv('C:\\\\Sachin\\\\INDUSTRIAL AUTOMATION\\\\Data science\\\\matplotlib and visualization of data\\\\Chicago_Crime_Detective.csv',index_col=0,encoding=\"latin1\")"
   ]
  },
  {
   "cell_type": "code",
   "execution_count": 3,
   "metadata": {},
   "outputs": [
    {
     "data": {
      "text/html": [
       "<div>\n",
       "<style scoped>\n",
       "    .dataframe tbody tr th:only-of-type {\n",
       "        vertical-align: middle;\n",
       "    }\n",
       "\n",
       "    .dataframe tbody tr th {\n",
       "        vertical-align: top;\n",
       "    }\n",
       "\n",
       "    .dataframe thead th {\n",
       "        text-align: right;\n",
       "    }\n",
       "</style>\n",
       "<table border=\"1\" class=\"dataframe\">\n",
       "  <thead>\n",
       "    <tr style=\"text-align: right;\">\n",
       "      <th></th>\n",
       "      <th>ID</th>\n",
       "      <th>Date</th>\n",
       "      <th>LocationDescription</th>\n",
       "      <th>Arrest</th>\n",
       "      <th>Domestic</th>\n",
       "      <th>Beat</th>\n",
       "      <th>District</th>\n",
       "      <th>CommunityArea</th>\n",
       "      <th>Year</th>\n",
       "    </tr>\n",
       "  </thead>\n",
       "  <tbody>\n",
       "    <tr>\n",
       "      <th>0</th>\n",
       "      <td>8951354</td>\n",
       "      <td>12/31/12 23:15</td>\n",
       "      <td>STREET</td>\n",
       "      <td>False</td>\n",
       "      <td>False</td>\n",
       "      <td>623</td>\n",
       "      <td>6</td>\n",
       "      <td>69</td>\n",
       "      <td>2012</td>\n",
       "    </tr>\n",
       "    <tr>\n",
       "      <th>1</th>\n",
       "      <td>8951141</td>\n",
       "      <td>12/31/12 22:00</td>\n",
       "      <td>STREET</td>\n",
       "      <td>False</td>\n",
       "      <td>False</td>\n",
       "      <td>1213</td>\n",
       "      <td>12</td>\n",
       "      <td>24</td>\n",
       "      <td>2012</td>\n",
       "    </tr>\n",
       "    <tr>\n",
       "      <th>2</th>\n",
       "      <td>8952745</td>\n",
       "      <td>12/31/12 22:00</td>\n",
       "      <td>RESIDENTIAL YARD (FRONT/BACK)</td>\n",
       "      <td>False</td>\n",
       "      <td>False</td>\n",
       "      <td>1622</td>\n",
       "      <td>16</td>\n",
       "      <td>11</td>\n",
       "      <td>2012</td>\n",
       "    </tr>\n",
       "    <tr>\n",
       "      <th>3</th>\n",
       "      <td>8952223</td>\n",
       "      <td>12/31/12 22:00</td>\n",
       "      <td>STREET</td>\n",
       "      <td>False</td>\n",
       "      <td>False</td>\n",
       "      <td>724</td>\n",
       "      <td>7</td>\n",
       "      <td>67</td>\n",
       "      <td>2012</td>\n",
       "    </tr>\n",
       "    <tr>\n",
       "      <th>4</th>\n",
       "      <td>8951608</td>\n",
       "      <td>12/31/12 21:30</td>\n",
       "      <td>STREET</td>\n",
       "      <td>False</td>\n",
       "      <td>False</td>\n",
       "      <td>211</td>\n",
       "      <td>2</td>\n",
       "      <td>35</td>\n",
       "      <td>2012</td>\n",
       "    </tr>\n",
       "  </tbody>\n",
       "</table>\n",
       "</div>"
      ],
      "text/plain": [
       "        ID            Date            LocationDescription  Arrest  Domestic  \\\n",
       "0  8951354  12/31/12 23:15                         STREET   False     False   \n",
       "1  8951141  12/31/12 22:00                         STREET   False     False   \n",
       "2  8952745  12/31/12 22:00  RESIDENTIAL YARD (FRONT/BACK)   False     False   \n",
       "3  8952223  12/31/12 22:00                         STREET   False     False   \n",
       "4  8951608  12/31/12 21:30                         STREET   False     False   \n",
       "\n",
       "   Beat District CommunityArea  Year  \n",
       "0   623        6            69  2012  \n",
       "1  1213       12            24  2012  \n",
       "2  1622       16            11  2012  \n",
       "3   724        7            67  2012  \n",
       "4   211        2            35  2012  "
      ]
     },
     "execution_count": 3,
     "metadata": {},
     "output_type": "execute_result"
    }
   ],
   "source": [
    "df.head()"
   ]
  },
  {
   "cell_type": "code",
   "execution_count": 4,
   "metadata": {},
   "outputs": [
    {
     "data": {
      "text/html": [
       "<div>\n",
       "<style scoped>\n",
       "    .dataframe tbody tr th:only-of-type {\n",
       "        vertical-align: middle;\n",
       "    }\n",
       "\n",
       "    .dataframe tbody tr th {\n",
       "        vertical-align: top;\n",
       "    }\n",
       "\n",
       "    .dataframe thead th {\n",
       "        text-align: right;\n",
       "    }\n",
       "</style>\n",
       "<table border=\"1\" class=\"dataframe\">\n",
       "  <thead>\n",
       "    <tr style=\"text-align: right;\">\n",
       "      <th></th>\n",
       "      <th>ID</th>\n",
       "      <th>Date</th>\n",
       "      <th>LocationDescription</th>\n",
       "      <th>Arrest</th>\n",
       "      <th>Domestic</th>\n",
       "      <th>Beat</th>\n",
       "      <th>District</th>\n",
       "      <th>CommunityArea</th>\n",
       "      <th>Year</th>\n",
       "    </tr>\n",
       "  </thead>\n",
       "  <tbody>\n",
       "    <tr>\n",
       "      <th>191636</th>\n",
       "      <td>1310068</td>\n",
       "      <td>1/1/01 0:05</td>\n",
       "      <td>STREET</td>\n",
       "      <td>False</td>\n",
       "      <td>False</td>\n",
       "      <td>1123</td>\n",
       "      <td>NaN</td>\n",
       "      <td>NaN</td>\n",
       "      <td>2001</td>\n",
       "    </tr>\n",
       "    <tr>\n",
       "      <th>191637</th>\n",
       "      <td>1313404</td>\n",
       "      <td>1/1/01 0:01</td>\n",
       "      <td>STREET</td>\n",
       "      <td>False</td>\n",
       "      <td>False</td>\n",
       "      <td>2023</td>\n",
       "      <td>NaN</td>\n",
       "      <td>NaN</td>\n",
       "      <td>2001</td>\n",
       "    </tr>\n",
       "    <tr>\n",
       "      <th>191638</th>\n",
       "      <td>1313442</td>\n",
       "      <td>1/1/01 0:01</td>\n",
       "      <td>STREET</td>\n",
       "      <td>False</td>\n",
       "      <td>False</td>\n",
       "      <td>911</td>\n",
       "      <td>NaN</td>\n",
       "      <td>NaN</td>\n",
       "      <td>2001</td>\n",
       "    </tr>\n",
       "    <tr>\n",
       "      <th>191639</th>\n",
       "      <td>1563324</td>\n",
       "      <td>1/1/01 0:01</td>\n",
       "      <td>STREET</td>\n",
       "      <td>False</td>\n",
       "      <td>False</td>\n",
       "      <td>1712</td>\n",
       "      <td>NaN</td>\n",
       "      <td>NaN</td>\n",
       "      <td>2001</td>\n",
       "    </tr>\n",
       "    <tr>\n",
       "      <th>191640</th>\n",
       "      <td>1310463</td>\n",
       "      <td>1/1/01 0:01</td>\n",
       "      <td>STREET</td>\n",
       "      <td>False</td>\n",
       "      <td>False</td>\n",
       "      <td>1911</td>\n",
       "      <td>NaN</td>\n",
       "      <td>NaN</td>\n",
       "      <td>2001</td>\n",
       "    </tr>\n",
       "  </tbody>\n",
       "</table>\n",
       "</div>"
      ],
      "text/plain": [
       "             ID         Date LocationDescription  Arrest  Domestic  Beat  \\\n",
       "191636  1310068  1/1/01 0:05              STREET   False     False  1123   \n",
       "191637  1313404  1/1/01 0:01              STREET   False     False  2023   \n",
       "191638  1313442  1/1/01 0:01              STREET   False     False   911   \n",
       "191639  1563324  1/1/01 0:01              STREET   False     False  1712   \n",
       "191640  1310463  1/1/01 0:01              STREET   False     False  1911   \n",
       "\n",
       "       District CommunityArea  Year  \n",
       "191636      NaN           NaN  2001  \n",
       "191637      NaN           NaN  2001  \n",
       "191638      NaN           NaN  2001  \n",
       "191639      NaN           NaN  2001  \n",
       "191640      NaN           NaN  2001  "
      ]
     },
     "execution_count": 4,
     "metadata": {},
     "output_type": "execute_result"
    }
   ],
   "source": [
    "df.tail()"
   ]
  },
  {
   "cell_type": "code",
   "execution_count": 5,
   "metadata": {},
   "outputs": [
    {
     "data": {
      "text/plain": [
       "ID                      int64\n",
       "Date                   object\n",
       "LocationDescription    object\n",
       "Arrest                   bool\n",
       "Domestic                 bool\n",
       "Beat                    int64\n",
       "District               object\n",
       "CommunityArea          object\n",
       "Year                    int64\n",
       "dtype: object"
      ]
     },
     "execution_count": 5,
     "metadata": {},
     "output_type": "execute_result"
    }
   ],
   "source": [
    "df.dtypes"
   ]
  },
  {
   "cell_type": "code",
   "execution_count": 6,
   "metadata": {},
   "outputs": [],
   "source": [
    "#dealinfg with time series data \n",
    "df['Date'] = pd.to_datetime(df['Date'])"
   ]
  },
  {
   "cell_type": "code",
   "execution_count": 7,
   "metadata": {},
   "outputs": [
    {
     "data": {
      "text/plain": [
       "ID                              int64\n",
       "Date                   datetime64[ns]\n",
       "LocationDescription            object\n",
       "Arrest                           bool\n",
       "Domestic                         bool\n",
       "Beat                            int64\n",
       "District                       object\n",
       "CommunityArea                  object\n",
       "Year                            int64\n",
       "dtype: object"
      ]
     },
     "execution_count": 7,
     "metadata": {},
     "output_type": "execute_result"
    }
   ],
   "source": [
    "df.dtypes"
   ]
  },
  {
   "cell_type": "code",
   "execution_count": 8,
   "metadata": {},
   "outputs": [],
   "source": [
    "mediandate = statistics.median(df['Date'])"
   ]
  },
  {
   "cell_type": "code",
   "execution_count": 9,
   "metadata": {},
   "outputs": [
    {
     "data": {
      "text/plain": [
       "Timestamp('2006-05-21 12:30:00')"
      ]
     },
     "execution_count": 9,
     "metadata": {},
     "output_type": "execute_result"
    }
   ],
   "source": [
    "mediandate"
   ]
  },
  {
   "cell_type": "code",
   "execution_count": 10,
   "metadata": {},
   "outputs": [
    {
     "data": {
      "text/plain": [
       "Date\n",
       "April        15280\n",
       "August       16572\n",
       "December     16426\n",
       "February     13511\n",
       "January      16047\n",
       "July         16801\n",
       "June         16002\n",
       "March        15758\n",
       "May          16035\n",
       "November     16063\n",
       "October      17086\n",
       "September    16060\n",
       "Name: Date, dtype: int64"
      ]
     },
     "execution_count": 10,
     "metadata": {},
     "output_type": "execute_result"
    }
   ],
   "source": [
    "#data to according to month for month data we use  ('%B')\n",
    "df.groupby(df['Date'].dt.strftime('%B'))['Date'].count()\n",
    "#print(df['Date'])"
   ]
  },
  {
   "cell_type": "code",
   "execution_count": 11,
   "metadata": {},
   "outputs": [
    {
     "data": {
      "text/plain": [
       "Date\n",
       "Friday       29284\n",
       "Monday       27397\n",
       "Saturday     27118\n",
       "Sunday       26316\n",
       "Thursday     27319\n",
       "Tuesday      26791\n",
       "Wednesday    27416\n",
       "Name: Date, dtype: int64"
      ]
     },
     "execution_count": 11,
     "metadata": {},
     "output_type": "execute_result"
    }
   ],
   "source": [
    "#weekly data ; for week wise data we use   ('%A')\n",
    "df.groupby(df['Date'].dt.strftime('%A'))['Date'].count()"
   ]
  },
  {
   "cell_type": "code",
   "execution_count": 12,
   "metadata": {},
   "outputs": [
    {
     "data": {
      "text/plain": [
       "Date       Arrest\n",
       "April      False     14028\n",
       "           True       1252\n",
       "August     False     15243\n",
       "           True       1329\n",
       "December   False     15029\n",
       "           True       1397\n",
       "February   False     12273\n",
       "           True       1238\n",
       "January    False     14612\n",
       "           True       1435\n",
       "July       False     15477\n",
       "           True       1324\n",
       "June       False     14772\n",
       "           True       1230\n",
       "March      False     14460\n",
       "           True       1298\n",
       "May        False     14848\n",
       "           True       1187\n",
       "November   False     14807\n",
       "           True       1256\n",
       "October    False     15744\n",
       "           True       1342\n",
       "September  False     14812\n",
       "           True       1248\n",
       "Name: Date, dtype: int64"
      ]
     },
     "execution_count": 12,
     "metadata": {},
     "output_type": "execute_result"
    }
   ],
   "source": [
    "df.groupby([df['Date'].dt.strftime('%B'),'Arrest'])['Date'].count()"
   ]
  },
  {
   "cell_type": "code",
   "execution_count": 13,
   "metadata": {},
   "outputs": [
    {
     "data": {
      "text/plain": [
       "Date\n",
       "Fri    29284\n",
       "Mon    27397\n",
       "Sat    27118\n",
       "Sun    26316\n",
       "Thu    27319\n",
       "Tue    26791\n",
       "Wed    27416\n",
       "Name: Date, dtype: int64"
      ]
     },
     "execution_count": 13,
     "metadata": {},
     "output_type": "execute_result"
    }
   ],
   "source": [
    "df.groupby(df['Date'].dt.strftime('%a'))['Date'].count()"
   ]
  },
  {
   "cell_type": "code",
   "execution_count": 14,
   "metadata": {},
   "outputs": [
    {
     "data": {
      "text/plain": [
       "Date\n",
       "2001    20669\n",
       "2002    18753\n",
       "2003    16657\n",
       "2004    16862\n",
       "2005    16484\n",
       "2006    16098\n",
       "2007    14280\n",
       "2008    14445\n",
       "2009    12167\n",
       "2010    15497\n",
       "2011    15637\n",
       "2012    14092\n",
       "Name: Date, dtype: int64"
      ]
     },
     "execution_count": 14,
     "metadata": {},
     "output_type": "execute_result"
    }
   ],
   "source": [
    "#to find yealy data we use ('%Y')\n",
    "df.groupby(df['Date'].dt.strftime('%Y'))['Date'].count()"
   ]
  },
  {
   "cell_type": "code",
   "execution_count": 15,
   "metadata": {},
   "outputs": [
    {
     "data": {
      "text/plain": [
       "<matplotlib.axes._subplots.AxesSubplot at 0x1ace0306548>"
      ]
     },
     "execution_count": 15,
     "metadata": {},
     "output_type": "execute_result"
    },
    {
     "data": {
      "image/png": "[encoded data removed]",
      "text/plain": [
       "<Figure size 432x288 with 1 Axes>"
      ]
     },
     "metadata": {
      "needs_background": "light"
     },
     "output_type": "display_data"
    }
   ],
   "source": [
    "sns.distplot(df.Year)"
   ]
  },
  {
   "cell_type": "code",
   "execution_count": 16,
   "metadata": {},
   "outputs": [],
   "source": [
    "pkmn_type_colors = ['#78C850',  # Grass\n",
    "                    '#F08030',  # Fire\n",
    "                    '#6890F0',  # Water\n",
    "                    '#A8B820',  # Bug\n",
    "                    '#A8A878',  # Normal\n",
    "                    '#A040A0',  # Poison\n",
    "                    '#F8D030',  # Electric\n",
    "                    '#E0C068',  # Ground\n",
    "                    '#EE99AC',  # Fairy\n",
    "                    '#C03028',  # Fighting\n",
    "                   ]"
   ]
  },
  {
   "cell_type": "code",
   "execution_count": 17,
   "metadata": {},
   "outputs": [
    {
     "data": {
      "text/plain": [
       "<matplotlib.axes._subplots.AxesSubplot at 0x1ace0504e48>"
      ]
     },
     "execution_count": 17,
     "metadata": {},
     "output_type": "execute_result"
    },
    {
     "data": {
      "image/png": "[encoded data removed]",
      "text/plain": [
       "<Figure size 432x288 with 1 Axes>"
      ]
     },
     "metadata": {
      "needs_background": "light"
     },
     "output_type": "display_data"
    }
   ],
   "source": [
    "sns.countplot(x='Year', data=df, palette=pkmn_type_colors)"
   ]
  },
  {
   "cell_type": "code",
   "execution_count": 18,
   "metadata": {},
   "outputs": [
    {
     "data": {
      "text/plain": [
       "<matplotlib.axes._subplots.AxesSubplot at 0x1acdf1754c8>"
      ]
     },
     "execution_count": 18,
     "metadata": {},
     "output_type": "execute_result"
    },
    {
     "data": {
      "image/png": "[encoded data removed]",
      "text/plain": [
       "<Figure size 432x288 with 1 Axes>"
      ]
     },
     "metadata": {
      "needs_background": "light"
     },
     "output_type": "display_data"
    }
   ],
   "source": [
    "df.groupby([df['Date'].dt.strftime('%Y'),'Arrest'])['Date'].count().plot.bar()"
   ]
  },
  {
   "cell_type": "code",
   "execution_count": 30,
   "metadata": {},
   "outputs": [],
   "source": [
    "#TO find top5 places where most theft occure with ID associated \n",
    "top5=df.groupby('LocationDescription')['ID'].count().sort_values(ascending=False)\n"
   ]
  },
  {
   "cell_type": "code",
   "execution_count": 33,
   "metadata": {},
   "outputs": [
    {
     "data": {
      "text/plain": [
       "LocationDescription\n",
       "STREET                            156564\n",
       "PARKING LOT/GARAGE(NON.RESID.)     14852\n",
       "OTHER                               4573\n",
       "ALLEY                               2308\n",
       "GAS STATION                         2111\n",
       "DRIVEWAY - RESIDENTIAL              1675\n",
       "RESIDENTIAL YARD (FRONT/BACK)       1536\n",
       "RESIDENCE                           1302\n",
       "RESIDENCE-GARAGE                    1176\n",
       "VACANT LOT/LAND                      985\n",
       "Name: ID, dtype: int64"
      ]
     },
     "execution_count": 33,
     "metadata": {},
     "output_type": "execute_result"
    }
   ],
   "source": [
    "top5.head(10)"
   ]
  },
  {
   "cell_type": "code",
   "execution_count": 25,
   "metadata": {},
   "outputs": [
    {
     "data": {
      "text/plain": [
       "Date  Arrest\n",
       "2001  False     18517\n",
       "      True       2152\n",
       "2002  False     16638\n",
       "      True       2115\n",
       "2003  False     14859\n",
       "      True       1798\n",
       "2004  False     15169\n",
       "      True       1693\n",
       "2005  False     14956\n",
       "      True       1528\n",
       "2006  False     14796\n",
       "      True       1302\n",
       "2007  False     13068\n",
       "      True       1212\n",
       "2008  False     13425\n",
       "      True       1020\n",
       "2009  False     11327\n",
       "      True        840\n",
       "2010  False     14796\n",
       "      True        701\n",
       "2011  False     15012\n",
       "      True        625\n",
       "2012  False     13542\n",
       "      True        550\n",
       "Name: Date, dtype: int64"
      ]
     },
     "execution_count": 25,
     "metadata": {},
     "output_type": "execute_result"
    }
   ],
   "source": [
    "df.groupby([df['Date'].dt.strftime('%Y'),'Arrest'])['Date'].count()"
   ]
  },
  {
   "cell_type": "code",
   "execution_count": 26,
   "metadata": {},
   "outputs": [
    {
     "data": {
      "text/plain": [
       "LocationDescription\n",
       "JAIL / LOCK-UP FACILITY                             1\n",
       "CTA TRAIN                                           1\n",
       "AIRPORT BUILDING NON-TERMINAL - SECURE AREA         1\n",
       "AIRPORT EXTERIOR - SECURE AREA                      1\n",
       "NEWSSTAND                                           1\n",
       "                                                ...  \n",
       "GAS STATION                                      2111\n",
       "ALLEY                                            2308\n",
       "OTHER                                            4573\n",
       "PARKING LOT/GARAGE(NON.RESID.)                  14852\n",
       "STREET                                         156564\n",
       "Name: ID, Length: 78, dtype: int64"
      ]
     },
     "execution_count": 26,
     "metadata": {},
     "output_type": "execute_result"
    }
   ],
   "source": [
    "#to find data whose acoding to location and ID and groupby them \n",
    "df.groupby('LocationDescription')['ID'].count().sort_values()"
   ]
  },
  {
   "cell_type": "code",
   "execution_count": 27,
   "metadata": {},
   "outputs": [],
   "source": [
    "#TO find data which are associated with the location GAS STATION \n",
    "tida=df[df.LocationDescription=='GAS STATION']"
   ]
  },
  {
   "cell_type": "code",
   "execution_count": 28,
   "metadata": {},
   "outputs": [
    {
     "data": {
      "text/html": [
       "<div>\n",
       "<style scoped>\n",
       "    .dataframe tbody tr th:only-of-type {\n",
       "        vertical-align: middle;\n",
       "    }\n",
       "\n",
       "    .dataframe tbody tr th {\n",
       "        vertical-align: top;\n",
       "    }\n",
       "\n",
       "    .dataframe thead th {\n",
       "        text-align: right;\n",
       "    }\n",
       "</style>\n",
       "<table border=\"1\" class=\"dataframe\">\n",
       "  <thead>\n",
       "    <tr style=\"text-align: right;\">\n",
       "      <th></th>\n",
       "      <th>ID</th>\n",
       "      <th>Date</th>\n",
       "      <th>LocationDescription</th>\n",
       "      <th>Arrest</th>\n",
       "      <th>Domestic</th>\n",
       "      <th>Beat</th>\n",
       "      <th>District</th>\n",
       "      <th>CommunityArea</th>\n",
       "      <th>Year</th>\n",
       "    </tr>\n",
       "  </thead>\n",
       "  <tbody>\n",
       "    <tr>\n",
       "      <th>13</th>\n",
       "      <td>8950570</td>\n",
       "      <td>2012-12-31 16:20:00</td>\n",
       "      <td>GAS STATION</td>\n",
       "      <td>True</td>\n",
       "      <td>False</td>\n",
       "      <td>825</td>\n",
       "      <td>8</td>\n",
       "      <td>66</td>\n",
       "      <td>2012</td>\n",
       "    </tr>\n",
       "    <tr>\n",
       "      <th>106</th>\n",
       "      <td>8948353</td>\n",
       "      <td>2012-12-29 10:00:00</td>\n",
       "      <td>GAS STATION</td>\n",
       "      <td>False</td>\n",
       "      <td>False</td>\n",
       "      <td>823</td>\n",
       "      <td>8</td>\n",
       "      <td>66</td>\n",
       "      <td>2012</td>\n",
       "    </tr>\n",
       "    <tr>\n",
       "      <th>213</th>\n",
       "      <td>8945802</td>\n",
       "      <td>2012-12-27 10:00:00</td>\n",
       "      <td>GAS STATION</td>\n",
       "      <td>False</td>\n",
       "      <td>False</td>\n",
       "      <td>321</td>\n",
       "      <td>3</td>\n",
       "      <td>42</td>\n",
       "      <td>2012</td>\n",
       "    </tr>\n",
       "    <tr>\n",
       "      <th>278</th>\n",
       "      <td>8943877</td>\n",
       "      <td>2012-12-25 10:00:00</td>\n",
       "      <td>GAS STATION</td>\n",
       "      <td>False</td>\n",
       "      <td>False</td>\n",
       "      <td>332</td>\n",
       "      <td>3</td>\n",
       "      <td>43</td>\n",
       "      <td>2012</td>\n",
       "    </tr>\n",
       "    <tr>\n",
       "      <th>290</th>\n",
       "      <td>8943595</td>\n",
       "      <td>2012-12-24 21:55:00</td>\n",
       "      <td>GAS STATION</td>\n",
       "      <td>False</td>\n",
       "      <td>False</td>\n",
       "      <td>421</td>\n",
       "      <td>4</td>\n",
       "      <td>43</td>\n",
       "      <td>2012</td>\n",
       "    </tr>\n",
       "  </tbody>\n",
       "</table>\n",
       "</div>"
      ],
      "text/plain": [
       "          ID                Date LocationDescription  Arrest  Domestic  Beat  \\\n",
       "13   8950570 2012-12-31 16:20:00         GAS STATION    True     False   825   \n",
       "106  8948353 2012-12-29 10:00:00         GAS STATION   False     False   823   \n",
       "213  8945802 2012-12-27 10:00:00         GAS STATION   False     False   321   \n",
       "278  8943877 2012-12-25 10:00:00         GAS STATION   False     False   332   \n",
       "290  8943595 2012-12-24 21:55:00         GAS STATION   False     False   421   \n",
       "\n",
       "    District CommunityArea  Year  \n",
       "13         8            66  2012  \n",
       "106        8            66  2012  \n",
       "213        3            42  2012  \n",
       "278        3            43  2012  \n",
       "290        4            43  2012  "
      ]
     },
     "execution_count": 28,
     "metadata": {},
     "output_type": "execute_result"
    }
   ],
   "source": [
    "tida.head()"
   ]
  },
  {
   "cell_type": "code",
   "execution_count": 29,
   "metadata": {},
   "outputs": [
    {
     "data": {
      "text/plain": [
       "Date\n",
       "Saturday     338\n",
       "Sunday       336\n",
       "Friday       332\n",
       "Thursday     282\n",
       "Monday       280\n",
       "Wednesday    273\n",
       "Tuesday      270\n",
       "Name: Date, dtype: int64"
      ]
     },
     "execution_count": 29,
     "metadata": {},
     "output_type": "execute_result"
    }
   ],
   "source": [
    "tida.groupby(tida['Date'].dt.strftime('%A'))['Date'].count().sort_values(ascending=False)"
   ]
  },
  {
   "cell_type": "code",
   "execution_count": null,
   "metadata": {},
   "outputs": [],
   "source": []
  }
 ],
 "metadata": {
  "kernelspec": {
   "display_name": "Python 3",
   "language": "python",
   "name": "python3"
  },
  "language_info": {
   "codemirror_mode": {
    "name": "ipython",
    "version": 3
   },
   "file_extension": ".py",
   "mimetype": "text/x-python",
   "name": "python",
   "nbconvert_exporter": "python",
   "pygments_lexer": "ipython3",
   "version": "3.7.6"
  }
 },
 "nbformat": 4,
 "nbformat_minor": 4
}
